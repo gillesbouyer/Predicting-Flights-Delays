{
 "cells": [
  {
   "cell_type": "code",
   "execution_count": 1,
   "metadata": {},
   "outputs": [],
   "source": [
    "import pandas as pd\n",
    "pd.set_option('display.max_columns', 100)   # We can see up to 200 columns\n",
    "import numpy as np\n",
    "import matplotlib.pyplot as plt\n",
    "%matplotlib inline\n",
    "from sklearn.linear_model import LogisticRegression\n",
    "from sklearn.model_selection import train_test_split\n",
    "from sklearn.metrics import precision_score, recall_score, accuracy_score, roc_auc_score\n",
    "from sklearn.metrics import confusion_matrix\n",
    "from sklearn.preprocessing import StandardScaler"
   ]
  },
  {
   "cell_type": "code",
   "execution_count": 2,
   "metadata": {},
   "outputs": [
    {
     "name": "stdout",
     "output_type": "stream",
     "text": [
      "Airlines logistic regression .ipynb  faa_tail_number_inquiry.jsonl\r\n",
      "Airlines logistic regression1 .ipynb graph.json\r\n",
      "Airlines logistic regression2 .ipynb https.docx\r\n",
      "AirlinesSQL.ipynb                    \u001b[34mnetworkxD3.egg-info\u001b[m\u001b[m\r\n",
      "EDA Airlines.ipynb                   numeric_file.csv\r\n",
      "Performance_2015.csv                 numeric_file.p\r\n",
      "Untitled                             setupd\r\n",
      "Untitled.ipynb                       setupd.py\r\n",
      "Untitled1.ipynb                      tail.csv\r\n",
      "Untitled2.ipynb                      tail1.csv\r\n",
      "airlines.ipynb                       triald3force.ipynb\r\n",
      "dataorigin.xlsx                      working_file\r\n",
      "decorator.ipynb                      working_file.p\r\n",
      "delays.xlsx                          working_file1.csv\r\n",
      "delays1.csv\r\n"
     ]
    }
   ],
   "source": [
    "!ls"
   ]
  },
  {
   "cell_type": "code",
   "execution_count": 3,
   "metadata": {},
   "outputs": [],
   "source": [
    "import pickle\n",
    "with open('numeric_file.p', 'rb') as read_file:\n",
    "     wdf = pickle.load(read_file)"
   ]
  },
  {
   "cell_type": "code",
   "execution_count": 4,
   "metadata": {},
   "outputs": [
    {
     "data": {
      "text/html": [
       "<div>\n",
       "<style scoped>\n",
       "    .dataframe tbody tr th:only-of-type {\n",
       "        vertical-align: middle;\n",
       "    }\n",
       "\n",
       "    .dataframe tbody tr th {\n",
       "        vertical-align: top;\n",
       "    }\n",
       "\n",
       "    .dataframe thead th {\n",
       "        text-align: right;\n",
       "    }\n",
       "</style>\n",
       "<table border=\"1\" class=\"dataframe\">\n",
       "  <thead>\n",
       "    <tr style=\"text-align: right;\">\n",
       "      <th></th>\n",
       "      <th>quarter</th>\n",
       "      <th>month</th>\n",
       "      <th>dayofmonth</th>\n",
       "      <th>dayofweek</th>\n",
       "      <th>airlineid</th>\n",
       "      <th>flightnum</th>\n",
       "      <th>originairportid</th>\n",
       "      <th>origincitymarketid</th>\n",
       "      <th>originstatefips</th>\n",
       "      <th>destairportid</th>\n",
       "      <th>destcitymarketid</th>\n",
       "      <th>deststatefips</th>\n",
       "      <th>crsdeptime</th>\n",
       "      <th>deptime</th>\n",
       "      <th>depdelay</th>\n",
       "      <th>depdelayminutes</th>\n",
       "      <th>depdel15</th>\n",
       "      <th>departuredelaygroups</th>\n",
       "      <th>crsarrtime</th>\n",
       "      <th>arrtime</th>\n",
       "      <th>arrdelay</th>\n",
       "      <th>arrdelayminutes</th>\n",
       "      <th>arrdel15</th>\n",
       "      <th>arrivaldelaygroups</th>\n",
       "      <th>cancelled</th>\n",
       "      <th>airtime</th>\n",
       "      <th>flights</th>\n",
       "      <th>distance</th>\n",
       "      <th>distancegroup</th>\n",
       "      <th>carrierdelay</th>\n",
       "      <th>weatherdelay</th>\n",
       "      <th>nasdelay</th>\n",
       "      <th>securitydelay</th>\n",
       "      <th>lateaircraftdelay</th>\n",
       "      <th>mfr_year</th>\n",
       "      <th>serial_number</th>\n",
       "    </tr>\n",
       "  </thead>\n",
       "  <tbody>\n",
       "    <tr>\n",
       "      <th>0</th>\n",
       "      <td>3</td>\n",
       "      <td>8</td>\n",
       "      <td>3</td>\n",
       "      <td>1</td>\n",
       "      <td>19393</td>\n",
       "      <td>253</td>\n",
       "      <td>13244</td>\n",
       "      <td>33244</td>\n",
       "      <td>47</td>\n",
       "      <td>13204</td>\n",
       "      <td>31454</td>\n",
       "      <td>12</td>\n",
       "      <td>1350</td>\n",
       "      <td>1353</td>\n",
       "      <td>3</td>\n",
       "      <td>3.0</td>\n",
       "      <td>0.0</td>\n",
       "      <td>0.0</td>\n",
       "      <td>1650</td>\n",
       "      <td>1700.0</td>\n",
       "      <td>10.0</td>\n",
       "      <td>10.0</td>\n",
       "      <td>0.0</td>\n",
       "      <td>0.0</td>\n",
       "      <td>0.0</td>\n",
       "      <td>109.0</td>\n",
       "      <td>1.0</td>\n",
       "      <td>684.0</td>\n",
       "      <td>3</td>\n",
       "      <td>0</td>\n",
       "      <td>0</td>\n",
       "      <td>0</td>\n",
       "      <td>0</td>\n",
       "      <td>0</td>\n",
       "      <td>2009</td>\n",
       "      <td>36641.0</td>\n",
       "    </tr>\n",
       "    <tr>\n",
       "      <th>1</th>\n",
       "      <td>3</td>\n",
       "      <td>8</td>\n",
       "      <td>3</td>\n",
       "      <td>1</td>\n",
       "      <td>19393</td>\n",
       "      <td>286</td>\n",
       "      <td>12892</td>\n",
       "      <td>32575</td>\n",
       "      <td>6</td>\n",
       "      <td>12191</td>\n",
       "      <td>31453</td>\n",
       "      <td>48</td>\n",
       "      <td>555</td>\n",
       "      <td>552</td>\n",
       "      <td>-3</td>\n",
       "      <td>0.0</td>\n",
       "      <td>0.0</td>\n",
       "      <td>-1.0</td>\n",
       "      <td>1115</td>\n",
       "      <td>1109.0</td>\n",
       "      <td>-6.0</td>\n",
       "      <td>0.0</td>\n",
       "      <td>0.0</td>\n",
       "      <td>-1.0</td>\n",
       "      <td>0.0</td>\n",
       "      <td>171.0</td>\n",
       "      <td>1.0</td>\n",
       "      <td>1390.0</td>\n",
       "      <td>6</td>\n",
       "      <td>0</td>\n",
       "      <td>0</td>\n",
       "      <td>0</td>\n",
       "      <td>0</td>\n",
       "      <td>0</td>\n",
       "      <td>2009</td>\n",
       "      <td>36641.0</td>\n",
       "    </tr>\n",
       "    <tr>\n",
       "      <th>2</th>\n",
       "      <td>3</td>\n",
       "      <td>8</td>\n",
       "      <td>3</td>\n",
       "      <td>1</td>\n",
       "      <td>19393</td>\n",
       "      <td>60</td>\n",
       "      <td>12191</td>\n",
       "      <td>31453</td>\n",
       "      <td>48</td>\n",
       "      <td>11259</td>\n",
       "      <td>30194</td>\n",
       "      <td>48</td>\n",
       "      <td>2100</td>\n",
       "      <td>2216</td>\n",
       "      <td>76</td>\n",
       "      <td>76.0</td>\n",
       "      <td>1.0</td>\n",
       "      <td>5.0</td>\n",
       "      <td>2155</td>\n",
       "      <td>2311.0</td>\n",
       "      <td>76.0</td>\n",
       "      <td>76.0</td>\n",
       "      <td>1.0</td>\n",
       "      <td>5.0</td>\n",
       "      <td>0.0</td>\n",
       "      <td>39.0</td>\n",
       "      <td>1.0</td>\n",
       "      <td>239.0</td>\n",
       "      <td>1</td>\n",
       "      <td>72</td>\n",
       "      <td>0</td>\n",
       "      <td>0</td>\n",
       "      <td>0</td>\n",
       "      <td>4</td>\n",
       "      <td>2009</td>\n",
       "      <td>36641.0</td>\n",
       "    </tr>\n",
       "    <tr>\n",
       "      <th>3</th>\n",
       "      <td>3</td>\n",
       "      <td>8</td>\n",
       "      <td>3</td>\n",
       "      <td>1</td>\n",
       "      <td>19393</td>\n",
       "      <td>950</td>\n",
       "      <td>14492</td>\n",
       "      <td>34492</td>\n",
       "      <td>37</td>\n",
       "      <td>12191</td>\n",
       "      <td>31453</td>\n",
       "      <td>48</td>\n",
       "      <td>1840</td>\n",
       "      <td>1951</td>\n",
       "      <td>71</td>\n",
       "      <td>71.0</td>\n",
       "      <td>1.0</td>\n",
       "      <td>4.0</td>\n",
       "      <td>2025</td>\n",
       "      <td>2133.0</td>\n",
       "      <td>68.0</td>\n",
       "      <td>68.0</td>\n",
       "      <td>1.0</td>\n",
       "      <td>4.0</td>\n",
       "      <td>0.0</td>\n",
       "      <td>147.0</td>\n",
       "      <td>1.0</td>\n",
       "      <td>1050.0</td>\n",
       "      <td>5</td>\n",
       "      <td>68</td>\n",
       "      <td>0</td>\n",
       "      <td>0</td>\n",
       "      <td>0</td>\n",
       "      <td>0</td>\n",
       "      <td>2009</td>\n",
       "      <td>36641.0</td>\n",
       "    </tr>\n",
       "    <tr>\n",
       "      <th>4</th>\n",
       "      <td>3</td>\n",
       "      <td>8</td>\n",
       "      <td>3</td>\n",
       "      <td>1</td>\n",
       "      <td>19393</td>\n",
       "      <td>1009</td>\n",
       "      <td>11292</td>\n",
       "      <td>30325</td>\n",
       "      <td>8</td>\n",
       "      <td>14679</td>\n",
       "      <td>33570</td>\n",
       "      <td>6</td>\n",
       "      <td>900</td>\n",
       "      <td>854</td>\n",
       "      <td>-6</td>\n",
       "      <td>0.0</td>\n",
       "      <td>0.0</td>\n",
       "      <td>-1.0</td>\n",
       "      <td>1015</td>\n",
       "      <td>1012.0</td>\n",
       "      <td>-3.0</td>\n",
       "      <td>0.0</td>\n",
       "      <td>0.0</td>\n",
       "      <td>-1.0</td>\n",
       "      <td>0.0</td>\n",
       "      <td>114.0</td>\n",
       "      <td>1.0</td>\n",
       "      <td>853.0</td>\n",
       "      <td>4</td>\n",
       "      <td>0</td>\n",
       "      <td>0</td>\n",
       "      <td>0</td>\n",
       "      <td>0</td>\n",
       "      <td>0</td>\n",
       "      <td>2009</td>\n",
       "      <td>36643.0</td>\n",
       "    </tr>\n",
       "  </tbody>\n",
       "</table>\n",
       "</div>"
      ],
      "text/plain": [
       "   quarter  month  dayofmonth  dayofweek  airlineid  flightnum  \\\n",
       "0        3      8           3          1      19393        253   \n",
       "1        3      8           3          1      19393        286   \n",
       "2        3      8           3          1      19393         60   \n",
       "3        3      8           3          1      19393        950   \n",
       "4        3      8           3          1      19393       1009   \n",
       "\n",
       "   originairportid  origincitymarketid  originstatefips  destairportid  \\\n",
       "0            13244               33244               47          13204   \n",
       "1            12892               32575                6          12191   \n",
       "2            12191               31453               48          11259   \n",
       "3            14492               34492               37          12191   \n",
       "4            11292               30325                8          14679   \n",
       "\n",
       "   destcitymarketid  deststatefips  crsdeptime  deptime  depdelay  \\\n",
       "0             31454             12        1350     1353         3   \n",
       "1             31453             48         555      552        -3   \n",
       "2             30194             48        2100     2216        76   \n",
       "3             31453             48        1840     1951        71   \n",
       "4             33570              6         900      854        -6   \n",
       "\n",
       "   depdelayminutes  depdel15  departuredelaygroups  crsarrtime  arrtime  \\\n",
       "0              3.0       0.0                   0.0        1650   1700.0   \n",
       "1              0.0       0.0                  -1.0        1115   1109.0   \n",
       "2             76.0       1.0                   5.0        2155   2311.0   \n",
       "3             71.0       1.0                   4.0        2025   2133.0   \n",
       "4              0.0       0.0                  -1.0        1015   1012.0   \n",
       "\n",
       "   arrdelay  arrdelayminutes  arrdel15  arrivaldelaygroups  cancelled  \\\n",
       "0      10.0             10.0       0.0                 0.0        0.0   \n",
       "1      -6.0              0.0       0.0                -1.0        0.0   \n",
       "2      76.0             76.0       1.0                 5.0        0.0   \n",
       "3      68.0             68.0       1.0                 4.0        0.0   \n",
       "4      -3.0              0.0       0.0                -1.0        0.0   \n",
       "\n",
       "   airtime  flights  distance  distancegroup  carrierdelay  weatherdelay  \\\n",
       "0    109.0      1.0     684.0              3             0             0   \n",
       "1    171.0      1.0    1390.0              6             0             0   \n",
       "2     39.0      1.0     239.0              1            72             0   \n",
       "3    147.0      1.0    1050.0              5            68             0   \n",
       "4    114.0      1.0     853.0              4             0             0   \n",
       "\n",
       "   nasdelay  securitydelay  lateaircraftdelay  mfr_year  serial_number  \n",
       "0         0              0                  0      2009        36641.0  \n",
       "1         0              0                  0      2009        36641.0  \n",
       "2         0              0                  4      2009        36641.0  \n",
       "3         0              0                  0      2009        36641.0  \n",
       "4         0              0                  0      2009        36643.0  "
      ]
     },
     "execution_count": 4,
     "metadata": {},
     "output_type": "execute_result"
    }
   ],
   "source": [
    "wdf.head(5) # This is used to get the column names to copy paste in the following cell"
   ]
  },
  {
   "cell_type": "code",
   "execution_count": 5,
   "metadata": {},
   "outputs": [
    {
     "data": {
      "text/plain": [
       "4958474"
      ]
     },
     "execution_count": 5,
     "metadata": {},
     "output_type": "execute_result"
    }
   ],
   "source": [
    "len(wdf)"
   ]
  },
  {
   "cell_type": "markdown",
   "metadata": {},
   "source": [
    "# Description of the fields\n",
    "    quarter                   int64    The quarter during which the plane has been flying\n",
    "    month                     int64\n",
    "    dayofmonth                int64\n",
    "    dayofweek                 int64\n",
    "    airlineid                 int64\n",
    "    flightnum                 int64\n",
    "    originairportid           int64\n",
    "    origincitymarketid        int64\n",
    "    originstatefips           int64\n",
    "    destairportid             int64\n",
    "    destcitymarketid          int64\n",
    "    deststatefips             int64\n",
    "    crsdeptime                int64\n",
    "    deptime                   int64\n",
    "    depdelay                  int64\n",
    "    depdelayminutes         float64\n",
    "    depdel15                float64  0.0 or 1.0 (there is a delay at departure (1))\n",
    "    departuredelaygroups    float64\n",
    "    crsarrtime                int64\n",
    "    arrtime                 float64\n",
    "    arrdelay                float64  could be -6 if it was in advance by 6 minutes\n",
    "    arrdelayminutes         float64  only keep the delay\n",
    "    arrdel15                float64  this is our y: 0.0 or 1.0 (there is a delay at arrival (1)\n",
    "    arrivaldelaygroups      float64  this will be another y multinomial classification\n",
    "    cancelled               float64\n",
    "    airtime                 float64\n",
    "    flights                 float64\n",
    "    distance                float64\n",
    "    distancegroup             int64\n",
    "    carrierdelay              int64  minutes due to carrier\n",
    "    weatherdelay              int64  minutes due to weather\n",
    "    nasdelay                  int64   \n",
    "    securitydelay             int64  minutes due to security\n",
    "    lateaircraftdelay         int64  minutes due to aircraft\n",
    "    mfr_year                  int64  year the plane was built\n",
    "    serial_number           float64  serial number of the plane"
   ]
  },
  {
   "cell_type": "code",
   "execution_count": 6,
   "metadata": {},
   "outputs": [],
   "source": [
    "# we want to predict the 0 / 1  values of the arrde115 variable\n",
    "# we are going to drop the arrival delay data because they are known after the plane has arrived"
   ]
  },
  {
   "cell_type": "code",
   "execution_count": 7,
   "metadata": {},
   "outputs": [],
   "source": [
    "wdf1 = wdf.drop(\n",
    "            [\n",
    "            'arrdelay',\n",
    "            'arrdelayminutes',\n",
    "            'arrivaldelaygroups',\n",
    "             'carrierdelay',\n",
    "             'weatherdelay',\n",
    "             'nasdelay',\n",
    "             'securitydelay',\n",
    "             'lateaircraftdelay',\n",
    "            ]\n",
    "            ,axis = 1 )"
   ]
  },
  {
   "cell_type": "code",
   "execution_count": 8,
   "metadata": {},
   "outputs": [
    {
     "data": {
      "text/html": [
       "<div>\n",
       "<style scoped>\n",
       "    .dataframe tbody tr th:only-of-type {\n",
       "        vertical-align: middle;\n",
       "    }\n",
       "\n",
       "    .dataframe tbody tr th {\n",
       "        vertical-align: top;\n",
       "    }\n",
       "\n",
       "    .dataframe thead th {\n",
       "        text-align: right;\n",
       "    }\n",
       "</style>\n",
       "<table border=\"1\" class=\"dataframe\">\n",
       "  <thead>\n",
       "    <tr style=\"text-align: right;\">\n",
       "      <th></th>\n",
       "      <th>quarter</th>\n",
       "      <th>month</th>\n",
       "      <th>dayofmonth</th>\n",
       "      <th>dayofweek</th>\n",
       "      <th>airlineid</th>\n",
       "      <th>flightnum</th>\n",
       "      <th>originairportid</th>\n",
       "      <th>origincitymarketid</th>\n",
       "      <th>originstatefips</th>\n",
       "      <th>destairportid</th>\n",
       "      <th>destcitymarketid</th>\n",
       "      <th>deststatefips</th>\n",
       "      <th>crsdeptime</th>\n",
       "      <th>deptime</th>\n",
       "      <th>depdelay</th>\n",
       "      <th>depdelayminutes</th>\n",
       "      <th>depdel15</th>\n",
       "      <th>departuredelaygroups</th>\n",
       "      <th>crsarrtime</th>\n",
       "      <th>arrtime</th>\n",
       "      <th>arrdel15</th>\n",
       "      <th>cancelled</th>\n",
       "      <th>airtime</th>\n",
       "      <th>flights</th>\n",
       "      <th>distance</th>\n",
       "      <th>distancegroup</th>\n",
       "      <th>mfr_year</th>\n",
       "      <th>serial_number</th>\n",
       "    </tr>\n",
       "  </thead>\n",
       "  <tbody>\n",
       "    <tr>\n",
       "      <th>0</th>\n",
       "      <td>3</td>\n",
       "      <td>8</td>\n",
       "      <td>3</td>\n",
       "      <td>1</td>\n",
       "      <td>19393</td>\n",
       "      <td>253</td>\n",
       "      <td>13244</td>\n",
       "      <td>33244</td>\n",
       "      <td>47</td>\n",
       "      <td>13204</td>\n",
       "      <td>31454</td>\n",
       "      <td>12</td>\n",
       "      <td>1350</td>\n",
       "      <td>1353</td>\n",
       "      <td>3</td>\n",
       "      <td>3.0</td>\n",
       "      <td>0.0</td>\n",
       "      <td>0.0</td>\n",
       "      <td>1650</td>\n",
       "      <td>1700.0</td>\n",
       "      <td>0.0</td>\n",
       "      <td>0.0</td>\n",
       "      <td>109.0</td>\n",
       "      <td>1.0</td>\n",
       "      <td>684.0</td>\n",
       "      <td>3</td>\n",
       "      <td>2009</td>\n",
       "      <td>36641.0</td>\n",
       "    </tr>\n",
       "    <tr>\n",
       "      <th>1</th>\n",
       "      <td>3</td>\n",
       "      <td>8</td>\n",
       "      <td>3</td>\n",
       "      <td>1</td>\n",
       "      <td>19393</td>\n",
       "      <td>286</td>\n",
       "      <td>12892</td>\n",
       "      <td>32575</td>\n",
       "      <td>6</td>\n",
       "      <td>12191</td>\n",
       "      <td>31453</td>\n",
       "      <td>48</td>\n",
       "      <td>555</td>\n",
       "      <td>552</td>\n",
       "      <td>-3</td>\n",
       "      <td>0.0</td>\n",
       "      <td>0.0</td>\n",
       "      <td>-1.0</td>\n",
       "      <td>1115</td>\n",
       "      <td>1109.0</td>\n",
       "      <td>0.0</td>\n",
       "      <td>0.0</td>\n",
       "      <td>171.0</td>\n",
       "      <td>1.0</td>\n",
       "      <td>1390.0</td>\n",
       "      <td>6</td>\n",
       "      <td>2009</td>\n",
       "      <td>36641.0</td>\n",
       "    </tr>\n",
       "    <tr>\n",
       "      <th>2</th>\n",
       "      <td>3</td>\n",
       "      <td>8</td>\n",
       "      <td>3</td>\n",
       "      <td>1</td>\n",
       "      <td>19393</td>\n",
       "      <td>60</td>\n",
       "      <td>12191</td>\n",
       "      <td>31453</td>\n",
       "      <td>48</td>\n",
       "      <td>11259</td>\n",
       "      <td>30194</td>\n",
       "      <td>48</td>\n",
       "      <td>2100</td>\n",
       "      <td>2216</td>\n",
       "      <td>76</td>\n",
       "      <td>76.0</td>\n",
       "      <td>1.0</td>\n",
       "      <td>5.0</td>\n",
       "      <td>2155</td>\n",
       "      <td>2311.0</td>\n",
       "      <td>1.0</td>\n",
       "      <td>0.0</td>\n",
       "      <td>39.0</td>\n",
       "      <td>1.0</td>\n",
       "      <td>239.0</td>\n",
       "      <td>1</td>\n",
       "      <td>2009</td>\n",
       "      <td>36641.0</td>\n",
       "    </tr>\n",
       "    <tr>\n",
       "      <th>3</th>\n",
       "      <td>3</td>\n",
       "      <td>8</td>\n",
       "      <td>3</td>\n",
       "      <td>1</td>\n",
       "      <td>19393</td>\n",
       "      <td>950</td>\n",
       "      <td>14492</td>\n",
       "      <td>34492</td>\n",
       "      <td>37</td>\n",
       "      <td>12191</td>\n",
       "      <td>31453</td>\n",
       "      <td>48</td>\n",
       "      <td>1840</td>\n",
       "      <td>1951</td>\n",
       "      <td>71</td>\n",
       "      <td>71.0</td>\n",
       "      <td>1.0</td>\n",
       "      <td>4.0</td>\n",
       "      <td>2025</td>\n",
       "      <td>2133.0</td>\n",
       "      <td>1.0</td>\n",
       "      <td>0.0</td>\n",
       "      <td>147.0</td>\n",
       "      <td>1.0</td>\n",
       "      <td>1050.0</td>\n",
       "      <td>5</td>\n",
       "      <td>2009</td>\n",
       "      <td>36641.0</td>\n",
       "    </tr>\n",
       "    <tr>\n",
       "      <th>4</th>\n",
       "      <td>3</td>\n",
       "      <td>8</td>\n",
       "      <td>3</td>\n",
       "      <td>1</td>\n",
       "      <td>19393</td>\n",
       "      <td>1009</td>\n",
       "      <td>11292</td>\n",
       "      <td>30325</td>\n",
       "      <td>8</td>\n",
       "      <td>14679</td>\n",
       "      <td>33570</td>\n",
       "      <td>6</td>\n",
       "      <td>900</td>\n",
       "      <td>854</td>\n",
       "      <td>-6</td>\n",
       "      <td>0.0</td>\n",
       "      <td>0.0</td>\n",
       "      <td>-1.0</td>\n",
       "      <td>1015</td>\n",
       "      <td>1012.0</td>\n",
       "      <td>0.0</td>\n",
       "      <td>0.0</td>\n",
       "      <td>114.0</td>\n",
       "      <td>1.0</td>\n",
       "      <td>853.0</td>\n",
       "      <td>4</td>\n",
       "      <td>2009</td>\n",
       "      <td>36643.0</td>\n",
       "    </tr>\n",
       "  </tbody>\n",
       "</table>\n",
       "</div>"
      ],
      "text/plain": [
       "   quarter  month  dayofmonth  dayofweek  airlineid  flightnum  \\\n",
       "0        3      8           3          1      19393        253   \n",
       "1        3      8           3          1      19393        286   \n",
       "2        3      8           3          1      19393         60   \n",
       "3        3      8           3          1      19393        950   \n",
       "4        3      8           3          1      19393       1009   \n",
       "\n",
       "   originairportid  origincitymarketid  originstatefips  destairportid  \\\n",
       "0            13244               33244               47          13204   \n",
       "1            12892               32575                6          12191   \n",
       "2            12191               31453               48          11259   \n",
       "3            14492               34492               37          12191   \n",
       "4            11292               30325                8          14679   \n",
       "\n",
       "   destcitymarketid  deststatefips  crsdeptime  deptime  depdelay  \\\n",
       "0             31454             12        1350     1353         3   \n",
       "1             31453             48         555      552        -3   \n",
       "2             30194             48        2100     2216        76   \n",
       "3             31453             48        1840     1951        71   \n",
       "4             33570              6         900      854        -6   \n",
       "\n",
       "   depdelayminutes  depdel15  departuredelaygroups  crsarrtime  arrtime  \\\n",
       "0              3.0       0.0                   0.0        1650   1700.0   \n",
       "1              0.0       0.0                  -1.0        1115   1109.0   \n",
       "2             76.0       1.0                   5.0        2155   2311.0   \n",
       "3             71.0       1.0                   4.0        2025   2133.0   \n",
       "4              0.0       0.0                  -1.0        1015   1012.0   \n",
       "\n",
       "   arrdel15  cancelled  airtime  flights  distance  distancegroup  mfr_year  \\\n",
       "0       0.0        0.0    109.0      1.0     684.0              3      2009   \n",
       "1       0.0        0.0    171.0      1.0    1390.0              6      2009   \n",
       "2       1.0        0.0     39.0      1.0     239.0              1      2009   \n",
       "3       1.0        0.0    147.0      1.0    1050.0              5      2009   \n",
       "4       0.0        0.0    114.0      1.0     853.0              4      2009   \n",
       "\n",
       "   serial_number  \n",
       "0        36641.0  \n",
       "1        36641.0  \n",
       "2        36641.0  \n",
       "3        36641.0  \n",
       "4        36643.0  "
      ]
     },
     "execution_count": 8,
     "metadata": {},
     "output_type": "execute_result"
    }
   ],
   "source": [
    "wdf1.head()"
   ]
  },
  {
   "cell_type": "code",
   "execution_count": 17,
   "metadata": {},
   "outputs": [
    {
     "data": {
      "text/plain": [
       "quarter                   int64\n",
       "month                     int64\n",
       "dayofmonth                int64\n",
       "dayofweek                 int64\n",
       "airlineid                 int64\n",
       "flightnum                 int64\n",
       "originairportid           int64\n",
       "origincitymarketid        int64\n",
       "originstatefips           int64\n",
       "destairportid             int64\n",
       "destcitymarketid          int64\n",
       "deststatefips             int64\n",
       "crsdeptime                int64\n",
       "deptime                   int64\n",
       "depdelay                  int64\n",
       "depdelayminutes         float64\n",
       "depdel15                float64\n",
       "departuredelaygroups    float64\n",
       "crsarrtime                int64\n",
       "arrtime                 float64\n",
       "arrdel15                float64\n",
       "cancelled               float64\n",
       "airtime                 float64\n",
       "flights                 float64\n",
       "distance                float64\n",
       "distancegroup             int64\n",
       "mfr_year                  int64\n",
       "serial_number           float64\n",
       "dtype: object"
      ]
     },
     "execution_count": 17,
     "metadata": {},
     "output_type": "execute_result"
    }
   ],
   "source": [
    "wdf1.dtypes"
   ]
  },
  {
   "cell_type": "code",
   "execution_count": 9,
   "metadata": {},
   "outputs": [
    {
     "data": {
      "text/plain": [
       "4958474"
      ]
     },
     "execution_count": 9,
     "metadata": {},
     "output_type": "execute_result"
    }
   ],
   "source": [
    "len(wdf1) # we have almost 5 million records"
   ]
  },
  {
   "cell_type": "code",
   "execution_count": 10,
   "metadata": {},
   "outputs": [],
   "source": [
    "from sklearn.model_selection import train_test_split"
   ]
  },
  {
   "cell_type": "code",
   "execution_count": 11,
   "metadata": {},
   "outputs": [],
   "source": [
    "X = wdf1.drop(columns='arrdel15')\n",
    "y = wdf1['arrdel15']\n",
    "X_train, X_test, y_train, y_test = train_test_split(X, y, test_size=0.30, random_state=4444)"
   ]
  },
  {
   "cell_type": "code",
   "execution_count": 18,
   "metadata": {},
   "outputs": [
    {
     "data": {
      "text/plain": [
       "quarter                   int64\n",
       "month                     int64\n",
       "dayofmonth                int64\n",
       "dayofweek                 int64\n",
       "airlineid                 int64\n",
       "flightnum                 int64\n",
       "originairportid           int64\n",
       "origincitymarketid        int64\n",
       "originstatefips           int64\n",
       "destairportid             int64\n",
       "destcitymarketid          int64\n",
       "deststatefips             int64\n",
       "crsdeptime                int64\n",
       "deptime                   int64\n",
       "depdelay                  int64\n",
       "depdelayminutes         float64\n",
       "depdel15                float64\n",
       "departuredelaygroups    float64\n",
       "crsarrtime                int64\n",
       "arrtime                 float64\n",
       "cancelled               float64\n",
       "airtime                 float64\n",
       "flights                 float64\n",
       "distance                float64\n",
       "distancegroup             int64\n",
       "mfr_year                  int64\n",
       "serial_number           float64\n",
       "dtype: object"
      ]
     },
     "execution_count": 18,
     "metadata": {},
     "output_type": "execute_result"
    }
   ],
   "source": [
    "X.dtypes"
   ]
  },
  {
   "cell_type": "code",
   "execution_count": 12,
   "metadata": {},
   "outputs": [],
   "source": [
    "############# BEGIN PART 1 Logistic Regression ##########\n",
    "from sklearn.linear_model import LogisticRegression"
   ]
  },
  {
   "cell_type": "code",
   "execution_count": 13,
   "metadata": {},
   "outputs": [
    {
     "data": {
      "text/plain": [
       "0.9344086187760623"
      ]
     },
     "execution_count": 13,
     "metadata": {},
     "output_type": "execute_result"
    }
   ],
   "source": [
    "lm1 = LogisticRegression(C=.001)\n",
    "lm1.fit(X_train, y_train)\n",
    "lm1.score(X_test, y_test)"
   ]
  },
  {
   "cell_type": "code",
   "execution_count": 16,
   "metadata": {},
   "outputs": [],
   "source": [
    "import pickle\n",
    "pickle.dump(lm1,open(\"./data/savelogreg.p\",\"wb\")) # saving the model to use in the app "
   ]
  },
  {
   "cell_type": "code",
   "execution_count": 21,
   "metadata": {},
   "outputs": [
    {
     "data": {
      "text/plain": [
       "[[1,\n",
       "  1,\n",
       "  1,\n",
       "  1,\n",
       "  19393,\n",
       "  253,\n",
       "  13244,\n",
       "  33244,\n",
       "  47,\n",
       "  13204,\n",
       "  31454,\n",
       "  12,\n",
       "  1350,\n",
       "  1353,\n",
       "  3,\n",
       "  3.0,\n",
       "  0.0,\n",
       "  0.0,\n",
       "  1650,\n",
       "  1700.0,\n",
       "  0.0,\n",
       "  109.0,\n",
       "  1.0,\n",
       "  684.0,\n",
       "  3,\n",
       "  2009,\n",
       "  36641.0]]"
      ]
     },
     "execution_count": 21,
     "metadata": {},
     "output_type": "execute_result"
    }
   ],
   "source": [
    "input_df = [[1,\n",
    "  1,\n",
    "  1,\n",
    "  1,\n",
    "  19393,\n",
    "  253,\n",
    "  13244,\n",
    "  33244,\n",
    "  47,\n",
    "  13204,\n",
    "  31454,\n",
    "  12,\n",
    "  1350,\n",
    "  1353,\n",
    "  3,\n",
    "  3.0,\n",
    "  0.0,\n",
    "  0.0,\n",
    "  1650,\n",
    "  1700.0,\n",
    "  0.0,\n",
    "  109.0,\n",
    "  1.0,\n",
    "  684.0,\n",
    "  3,\n",
    "  2009,\n",
    "  36641.0]]"
   ]
  },
  {
   "cell_type": "code",
   "execution_count": 25,
   "metadata": {},
   "outputs": [
    {
     "data": {
      "text/plain": [
       "array([0.])"
      ]
     },
     "execution_count": 25,
     "metadata": {},
     "output_type": "execute_result"
    }
   ],
   "source": [
    "lm1.predict(input_df)  # to prepare for the app. wE need to take [0] to get the number in the array"
   ]
  },
  {
   "cell_type": "code",
   "execution_count": 17,
   "metadata": {},
   "outputs": [
    {
     "data": {
      "text/plain": [
       "(array([[-5.92189427e-04, -1.68877521e-03, -1.08967728e-03,\n",
       "         -4.04615085e-04,  5.32487449e-05,  2.89729127e-05,\n",
       "          9.74689387e-05, -1.15859498e-04, -7.31936946e-04,\n",
       "         -1.41852819e-05, -6.74394565e-05,  1.06167306e-03,\n",
       "          9.60991308e-04, -8.41007054e-04,  7.39846954e-02,\n",
       "          6.64488803e-02,  1.98335935e-03,  5.24057319e-03,\n",
       "         -2.35473449e-04,  2.69457646e-04, -2.13361114e-05,\n",
       "          3.99543383e-02, -1.64562188e-05, -4.86211535e-03,\n",
       "         -8.53765353e-05, -9.52968458e-05,  6.98696125e-09]]),\n",
       " array([-1.64562188e-05]))"
      ]
     },
     "execution_count": 17,
     "metadata": {},
     "output_type": "execute_result"
    }
   ],
   "source": [
    "lm1.coef_, lm1.intercept_ # highest values(e-02) are: delays at departure(depdelay and depdelayminutes) and distance"
   ]
  },
  {
   "cell_type": "code",
   "execution_count": 18,
   "metadata": {},
   "outputs": [
    {
     "data": {
      "text/plain": [
       "array([[1200455,   18127],\n",
       "       [  79031,  189930]])"
      ]
     },
     "execution_count": 18,
     "metadata": {},
     "output_type": "execute_result"
    }
   ],
   "source": [
    "from sklearn.metrics import confusion_matrix\n",
    "feature = X_test\n",
    "y_predict = lm1.predict(feature) \n",
    "# predict returns array([0.]) or array([1.])- int(lm1.predict(input_df)[0]) is needed to get a 0/1 used in flask\n",
    "confusion_matrix(y_test, y_predict)"
   ]
  },
  {
   "cell_type": "code",
   "execution_count": 19,
   "metadata": {},
   "outputs": [],
   "source": [
    "from sklearn.metrics import precision_score, recall_score, accuracy_score, roc_auc_score, roc_curve\n",
    "from sklearn.metrics import precision_recall_curve,f1_score, fbeta_score"
   ]
  },
  {
   "cell_type": "code",
   "execution_count": 20,
   "metadata": {},
   "outputs": [
    {
     "name": "stdout",
     "output_type": "stream",
     "text": [
      "0.9128748371840409\n",
      "0.7061618598979034\n"
     ]
    }
   ],
   "source": [
    "precision_score(y_test, y_predict,labels=None, pos_label=1, average='binary', sample_weight=None);\n",
    "recall_score(y_test, y_predict);\n",
    "print(precision_score(y_test, y_predict))\n",
    "print(recall_score(y_test, y_predict))"
   ]
  },
  {
   "cell_type": "code",
   "execution_count": 21,
   "metadata": {},
   "outputs": [
    {
     "data": {
      "text/plain": [
       "0.7963221513653573"
      ]
     },
     "execution_count": 21,
     "metadata": {},
     "output_type": "execute_result"
    }
   ],
   "source": [
    "# f1 score\n",
    "y_predict = lm1.predict(X_test)\n",
    "f1_score(y_test, y_predict)"
   ]
  },
  {
   "cell_type": "code",
   "execution_count": 22,
   "metadata": {},
   "outputs": [
    {
     "name": "stdout",
     "output_type": "stream",
     "text": [
      "             precision    recall  f1-score   support\n",
      "\n",
      "        0.0       0.94      0.99      0.96   1218582\n",
      "        1.0       0.91      0.71      0.80    268961\n",
      "\n",
      "avg / total       0.93      0.93      0.93   1487543\n",
      "\n"
     ]
    }
   ],
   "source": [
    "from sklearn.metrics import classification_report\n",
    "print(classification_report(y_test,lm1.predict(X_test)))"
   ]
  },
  {
   "cell_type": "code",
   "execution_count": 24,
   "metadata": {},
   "outputs": [],
   "source": [
    "fpr, tpr, thresholds = roc_curve(y_test, lm1.predict_proba(X_test)[:,1])"
   ]
  },
  {
   "cell_type": "code",
   "execution_count": 25,
   "metadata": {},
   "outputs": [
    {
     "name": "stdout",
     "output_type": "stream",
     "text": [
      "ROC AUC score =  0.9449876496456802\n"
     ]
    },
    {
     "data": {
      "image/png": "[encoded data removed]",
      "text/plain": [
       "<Figure size 432x288 with 1 Axes>"
      ]
     },
     "metadata": {},
     "output_type": "display_data"
    }
   ],
   "source": [
    "plt.plot(fpr, tpr,lw=2)\n",
    "plt.plot([0,1],[0,1],c='r',ls='--')\n",
    "plt.xlim([-0.05,1.05])\n",
    "plt.ylim([-0.05,1.05])\n",
    "\n",
    "\n",
    "plt.xlabel('False positive rate')\n",
    "plt.ylabel('True positive rate')\n",
    "plt.title('ROC curve for airlines delays');\n",
    "print(\"ROC AUC score = \", roc_auc_score(y_test, lm1.predict_proba(X_test)[:,1]))"
   ]
  },
  {
   "cell_type": "code",
   "execution_count": 26,
   "metadata": {},
   "outputs": [
    {
     "data": {
      "image/png": "[encoded data removed]",
      "text/plain": [
       "<Figure size 900x600 with 1 Axes>"
      ]
     },
     "metadata": {},
     "output_type": "display_data"
    }
   ],
   "source": [
    "precision_curve, recall_curve, threshold_curve = precision_recall_curve(y_test, lm1.predict_proba(X_test)[:,1] )\n",
    "\n",
    "plt.figure(dpi=150)\n",
    "plt.plot(threshold_curve, precision_curve[1:],label='precision')\n",
    "plt.plot(threshold_curve, recall_curve[1:], label='recall')\n",
    "plt.legend(loc='lower left')\n",
    "plt.xlabel('Threshold (above this probability, label as delayed)');\n",
    "plt.title('Precision and Recall Curves');"
   ]
  },
  {
   "cell_type": "code",
   "execution_count": 27,
   "metadata": {},
   "outputs": [
    {
     "data": {
      "image/png": "[encoded data removed]",
      "text/plain": [
       "<Figure size 900x600 with 1 Axes>"
      ]
     },
     "metadata": {},
     "output_type": "display_data"
    }
   ],
   "source": [
    "plt.figure(dpi=150)\n",
    "plt.plot(recall_curve[1:], precision_curve[1:],label='precision')\n",
    "plt.xlabel(\"Recall\")\n",
    "plt.ylabel(\"Precision\")\n",
    "plt.title(\"Precision-Recall Curve\");"
   ]
  },
  {
   "cell_type": "code",
   "execution_count": null,
   "metadata": {},
   "outputs": [],
   "source": [
    "############# END PART 1 Logistic Regression ##########"
   ]
  },
  {
   "cell_type": "code",
   "execution_count": null,
   "metadata": {},
   "outputs": [],
   "source": [
    "#############  PART 2 Random Forest ##########"
   ]
  },
  {
   "cell_type": "code",
   "execution_count": 28,
   "metadata": {},
   "outputs": [
    {
     "name": "stdout",
     "output_type": "stream",
     "text": [
      "[[1194813   23769]\n",
      " [  76839  192122]]\n",
      "0.9323663248726255\n"
     ]
    }
   ],
   "source": [
    "from sklearn.ensemble import RandomForestClassifier\n",
    "rf = RandomForestClassifier(n_estimators=10,max_depth=5)\n",
    "rf.fit(X_train, y_train)\n",
    "rf.score(X_test, y_test)\n",
    "feature = X_test\n",
    "y_predict = rf.predict(feature)\n",
    "print(confusion_matrix(y_test, y_predict))\n",
    "print(accuracy_score(y_test, y_predict))"
   ]
  },
  {
   "cell_type": "code",
   "execution_count": 30,
   "metadata": {},
   "outputs": [
    {
     "data": {
      "image/png": "[encoded data removed]",
      "text/plain": [
       "<Figure size 432x288 with 1 Axes>"
      ]
     },
     "metadata": {},
     "output_type": "display_data"
    }
   ],
   "source": [
    "#####.  ROC AUC random forest ##### \n",
    "fpr, tpr, thresholds = roc_curve(y_test, rf.predict_proba(X_test)[:,1])\n",
    "auc = roc_auc_score(y_test,rf.predict_proba(X_test)[:,1])\n",
    "plt.figure()\n",
    "plt.plot(fpr, tpr, color='darkorange',\n",
    "         lw=2, label='ROC curve (area = %0.2f)' % auc)\n",
    "plt.plot([0, 1], [0, 1], color='navy', lw=2, linestyle='--')\n",
    "plt.xlim([0.0, 1.0])\n",
    "plt.ylim([0.0, 1.05])\n",
    "plt.xlabel('False Positive Rate')\n",
    "plt.ylabel('True Positive Rate')\n",
    "plt.title(' Random Forrest applied to Flight Delays')\n",
    "plt.legend(loc=\"lower right\")\n",
    "plt.show()"
   ]
  },
  {
   "cell_type": "code",
   "execution_count": 44,
   "metadata": {},
   "outputs": [],
   "source": [
    "########## BEGIN PART 3 Neural Network ###########\n",
    "from sklearn.preprocessing import LabelEncoder\n",
    "from keras.utils import np_utils"
   ]
  },
  {
   "cell_type": "code",
   "execution_count": 45,
   "metadata": {},
   "outputs": [],
   "source": [
    "ohe = LabelEncoder().fit(y_train)\n",
    "y_train = ohe.transform(y_train)\n",
    "y_test_t = ohe.transform(y_test)\n",
    "y_train_t = np_utils.to_categorical(y_train)\n",
    "y_test_t = np_utils.to_categorical(y_test_t)"
   ]
  },
  {
   "cell_type": "code",
   "execution_count": 46,
   "metadata": {},
   "outputs": [
    {
     "data": {
      "text/plain": [
       "array([[1., 0.],\n",
       "       [1., 0.],\n",
       "       [1., 0.],\n",
       "       [1., 0.],\n",
       "       [1., 0.]], dtype=float32)"
      ]
     },
     "execution_count": 46,
     "metadata": {},
     "output_type": "execute_result"
    }
   ],
   "source": [
    "y_train[:5]\n",
    "y_train_t[:5]"
   ]
  },
  {
   "cell_type": "code",
   "execution_count": 47,
   "metadata": {},
   "outputs": [
    {
     "name": "stdout",
     "output_type": "stream",
     "text": [
      "Epoch 1/10\n",
      "3470931/3470931 [==============================] - 55s 16us/step - loss: 0.4813 - acc: 0.8190\n",
      "Epoch 2/10\n",
      "3470931/3470931 [==============================] - 55s 16us/step - loss: 0.4729 - acc: 0.8190\n",
      "Epoch 3/10\n",
      "3470931/3470931 [==============================] - 54s 16us/step - loss: 0.4729 - acc: 0.8190\n",
      "Epoch 4/10\n",
      "3470931/3470931 [==============================] - 55s 16us/step - loss: 0.4729 - acc: 0.8190\n",
      "Epoch 5/10\n",
      "3470931/3470931 [==============================] - 57s 16us/step - loss: 0.4729 - acc: 0.8190\n",
      "Epoch 6/10\n",
      "3470931/3470931 [==============================] - 58s 17us/step - loss: 0.4729 - acc: 0.8190\n",
      "Epoch 7/10\n",
      "3470931/3470931 [==============================] - 58s 17us/step - loss: 0.4729 - acc: 0.8190\n",
      "Epoch 8/10\n",
      "3470931/3470931 [==============================] - 58s 17us/step - loss: 0.4729 - acc: 0.8190\n",
      "Epoch 9/10\n",
      "3470931/3470931 [==============================] - 61s 18us/step - loss: 0.4729 - acc: 0.8190\n",
      "Epoch 10/10\n",
      "3470931/3470931 [==============================] - 59s 17us/step - loss: 0.4729 - acc: 0.8190\n"
     ]
    },
    {
     "data": {
      "text/plain": [
       "<keras.callbacks.History at 0x1a2969ba90>"
      ]
     },
     "execution_count": 47,
     "metadata": {},
     "output_type": "execute_result"
    }
   ],
   "source": [
    "from keras.models import Sequential\n",
    "from keras.layers import Dense\n",
    "import numpy\n",
    "\n",
    "model = Sequential()\n",
    "model.add(Dense(8, input_dim=27, activation='relu'))\n",
    "model.add(Dense(4, activation='relu'))\n",
    "model.add(Dense(2, activation='softmax'))\n",
    "\n",
    "# Compile model\n",
    "model.compile(loss='binary_crossentropy', optimizer='adam', metrics=['accuracy'])\n",
    "\n",
    "# Fit the model\n",
    "model.fit(X_train, y_train_t, epochs=10, batch_size=100)"
   ]
  },
  {
   "cell_type": "code",
   "execution_count": 48,
   "metadata": {},
   "outputs": [
    {
     "name": "stdout",
     "output_type": "stream",
     "text": [
      "3470931/3470931 [==============================] - 49s 14us/step\n"
     ]
    },
    {
     "data": {
      "text/plain": [
       "[0.4728832553763988, 0.8190154169011482]"
      ]
     },
     "execution_count": 48,
     "metadata": {},
     "output_type": "execute_result"
    }
   ],
   "source": [
    "scores = model.evaluate(X_train, y_train_t)\n",
    "scores"
   ]
  },
  {
   "cell_type": "code",
   "execution_count": 49,
   "metadata": {},
   "outputs": [
    {
     "name": "stdout",
     "output_type": "stream",
     "text": [
      "1487543/1487543 [==============================] - 21s 14us/step\n"
     ]
    },
    {
     "data": {
      "text/plain": [
       "[0.47261782673440356, 0.8191911090969097]"
      ]
     },
     "execution_count": 49,
     "metadata": {},
     "output_type": "execute_result"
    }
   ],
   "source": [
    "scores = model.evaluate(X_test, y_test_t)\n",
    "scores"
   ]
  },
  {
   "cell_type": "code",
   "execution_count": 50,
   "metadata": {},
   "outputs": [],
   "source": [
    "preds = model.predict(X_test)\n",
    "preds_class = model.predict_classes(X_test)"
   ]
  },
  {
   "cell_type": "code",
   "execution_count": 54,
   "metadata": {},
   "outputs": [
    {
     "data": {
      "image/png": "[encoded data removed]",
      "text/plain": [
       "<Figure size 432x288 with 1 Axes>"
      ]
     },
     "metadata": {},
     "output_type": "display_data"
    }
   ],
   "source": [
    "\n",
    "fpr, tpr, thresholds = roc_curve(y_test, model.predict_proba(X_test)[:,1])\n",
    "auc = roc_auc_score(y_test,model.predict_proba(X_test)[:,1])\n",
    "plt.figure()\n",
    "plt.plot(fpr, tpr, color='darkorange',\n",
    "         lw=2, label='ROC curve (area = %0.2f)' % auc)\n",
    "plt.plot([0, 1], [0, 1], color='navy', lw=2, linestyle='--')\n",
    "plt.xlim([0.0, 1.0])\n",
    "plt.ylim([0.0, 1.05])\n",
    "plt.xlabel('False Positive Rate')\n",
    "plt.ylabel('True Positive Rate')\n",
    "plt.title(' Neural Network applied to Flight Delays')\n",
    "plt.legend(loc=\"lower right\")\n",
    "plt.show()"
   ]
  },
  {
   "cell_type": "code",
   "execution_count": null,
   "metadata": {},
   "outputs": [],
   "source": [
    "#############    END Part 3 NEURAL NETWORKS ##################"
   ]
  },
  {
   "cell_type": "code",
   "execution_count": null,
   "metadata": {},
   "outputs": [],
   "source": [
    "#############    BEGIN Part 4 k=5,10,9 Nearest Neighbors ##################"
   ]
  },
  {
   "cell_type": "code",
   "execution_count": 55,
   "metadata": {},
   "outputs": [],
   "source": [
    "from sklearn.neighbors import KNeighborsClassifier"
   ]
  },
  {
   "cell_type": "code",
   "execution_count": 56,
   "metadata": {},
   "outputs": [
    {
     "name": "stdout",
     "output_type": "stream",
     "text": [
      "The score for KNN is\n",
      "Training: 90.0901%\n",
      "Test set: 86.7695%\n"
     ]
    }
   ],
   "source": [
    "knn = KNeighborsClassifier(n_neighbors=5)\n",
    "knn.fit(X_train, y_train)\n",
    "print(\"The score for KNN is\")\n",
    "print(\"Training: {:6.4f}%\".format(100*knn.score(X_train, y_train)))\n",
    "print(\"Test set: {:6.4f}%\".format(100*knn.score(X_test, y_test)))"
   ]
  },
  {
   "cell_type": "code",
   "execution_count": 57,
   "metadata": {},
   "outputs": [
    {
     "data": {
      "text/plain": [
       "array([[1187326,   31256],\n",
       "       [ 165554,  103407]])"
      ]
     },
     "execution_count": 57,
     "metadata": {},
     "output_type": "execute_result"
    }
   ],
   "source": [
    "from sklearn.metrics import confusion_matrix\n",
    "confusion_matrix(y_test, knn.predict(X_test))"
   ]
  },
  {
   "cell_type": "code",
   "execution_count": 59,
   "metadata": {},
   "outputs": [],
   "source": [
    "fpr, tpr, thresholds = roc_curve(y_test, knn.predict_proba(X_test)[:,1])\n",
    "auc = roc_auc_score(y_test,knn.predict_proba(X_test)[:,1])"
   ]
  },
  {
   "cell_type": "code",
   "execution_count": 60,
   "metadata": {},
   "outputs": [
    {
     "data": {
      "image/png": "[encoded data removed]",
      "text/plain": [
       "<Figure size 432x288 with 1 Axes>"
      ]
     },
     "metadata": {},
     "output_type": "display_data"
    }
   ],
   "source": [
    "plt.figure()\n",
    "plt.plot(fpr, tpr, color='darkorange',\n",
    "         lw=2, label='ROC curve (area = %0.2f)' % auc)\n",
    "plt.plot([0, 1], [0, 1], color='navy', lw=2, linestyle='--')\n",
    "plt.xlim([0.0, 1.0])\n",
    "plt.ylim([0.0, 1.05])\n",
    "plt.xlabel('False Positive Rate')\n",
    "plt.ylabel('True Positive Rate')\n",
    "plt.title('Knn applied to Flight Delays')\n",
    "plt.legend(loc=\"lower right\")\n",
    "plt.show()"
   ]
  },
  {
   "cell_type": "code",
   "execution_count": 61,
   "metadata": {},
   "outputs": [
    {
     "name": "stdout",
     "output_type": "stream",
     "text": [
      "The score for KNN is\n",
      "Training: 86.7064%\n",
      "Test set: 85.5360%\n"
     ]
    },
    {
     "data": {
      "image/png": "[encoded data removed]",
      "text/plain": [
       "<Figure size 432x288 with 1 Axes>"
      ]
     },
     "metadata": {},
     "output_type": "display_data"
    }
   ],
   "source": [
    "knn = KNeighborsClassifier(n_neighbors=10)\n",
    "knn.fit(X_train, y_train)\n",
    "print(\"The score for KNN is\")\n",
    "print(\"Training: {:6.4f}%\".format(100*knn.score(X_train, y_train)))\n",
    "print(\"Test set: {:6.4f}%\".format(100*knn.score(X_test, y_test)))\n",
    "confusion_matrix(y_test, knn.predict(X_test))\n",
    "fpr, tpr, thresholds = roc_curve(y_test, knn.predict_proba(X_test)[:,1])\n",
    "auc = roc_auc_score(y_test,knn.predict_proba(X_test)[:,1])\n",
    "plt.figure()\n",
    "plt.plot(fpr, tpr, color='darkorange',\n",
    "         lw=2, label='ROC curve (area = %0.2f)' % auc)\n",
    "plt.plot([0, 1], [0, 1], color='navy', lw=2, linestyle='--')\n",
    "plt.xlim([0.0, 1.0])\n",
    "plt.ylim([0.0, 1.05])\n",
    "plt.xlabel('False Positive Rate')\n",
    "plt.ylabel('True Positive Rate')\n",
    "plt.title('Knn applied to Flight Delays')\n",
    "plt.legend(loc=\"lower right\")\n",
    "plt.show()"
   ]
  },
  {
   "cell_type": "code",
   "execution_count": 62,
   "metadata": {},
   "outputs": [
    {
     "name": "stdout",
     "output_type": "stream",
     "text": [
      "The score for KNN is\n",
      "Training: 87.5991%\n",
      "Test set: 85.8979%\n"
     ]
    },
    {
     "data": {
      "image/png": "[encoded data removed]",
      "text/plain": [
       "<Figure size 432x288 with 1 Axes>"
      ]
     },
     "metadata": {},
     "output_type": "display_data"
    }
   ],
   "source": [
    "knn = KNeighborsClassifier(n_neighbors=9)\n",
    "knn.fit(X_train, y_train)\n",
    "print(\"The score for KNN is\")\n",
    "print(\"Training: {:6.4f}%\".format(100*knn.score(X_train, y_train)))\n",
    "print(\"Test set: {:6.4f}%\".format(100*knn.score(X_test, y_test)))\n",
    "confusion_matrix(y_test, knn.predict(X_test))\n",
    "fpr, tpr, thresholds = roc_curve(y_test, knn.predict_proba(X_test)[:,1])\n",
    "auc = roc_auc_score(y_test,knn.predict_proba(X_test)[:,1])\n",
    "plt.figure()\n",
    "plt.plot(fpr, tpr, color='darkorange',\n",
    "         lw=2, label='ROC curve (area = %0.2f)' % auc)\n",
    "plt.plot([0, 1], [0, 1], color='navy', lw=2, linestyle='--')\n",
    "plt.xlim([0.0, 1.0])\n",
    "plt.ylim([0.0, 1.05])\n",
    "plt.xlabel('False Positive Rate')\n",
    "plt.ylabel('True Positive Rate')\n",
    "plt.title('Knn applied to Flight Delays')\n",
    "plt.legend(loc=\"lower right\")\n",
    "plt.show()"
   ]
  },
  {
   "cell_type": "code",
   "execution_count": 46,
   "metadata": {},
   "outputs": [
    {
     "data": {
      "image/png": "[encoded data removed]",
      "text/plain": [
       "<Figure size 900x600 with 2 Axes>"
      ]
     },
     "metadata": {},
     "output_type": "display_data"
    }
   ],
   "source": [
    "import seaborn as sns\n",
    "\n",
    "knn_confusion = confusion_matrix(y_test, knn.predict(X_test))\n",
    "plt.figure(dpi=150)\n",
    "sns.heatmap(knn_confusion, cmap=plt.cm.Blues, annot=True, square=True,\n",
    "           xticklabels='Prediction',\n",
    "               yticklabels='Actual')\n",
    "\n",
    "plt.xlabel('Predicted delay')\n",
    "plt.ylabel('Actual delay')\n",
    "plt.title('kNN confusion matrix');"
   ]
  },
  {
   "cell_type": "code",
   "execution_count": 47,
   "metadata": {},
   "outputs": [],
   "source": [
    "#############    end of part 4 KNN #########"
   ]
  },
  {
   "cell_type": "code",
   "execution_count": 48,
   "metadata": {},
   "outputs": [],
   "source": [
    "#############    START  part 5 SVM #########"
   ]
  },
  {
   "cell_type": "code",
   "execution_count": 49,
   "metadata": {},
   "outputs": [],
   "source": [
    "from sklearn import svm\n",
    "model_svm = svm.SVC(kernel='linear')"
   ]
  },
  {
   "cell_type": "code",
   "execution_count": null,
   "metadata": {},
   "outputs": [],
   "source": [
    "# Stopped after 1hour run"
   ]
  },
  {
   "cell_type": "code",
   "execution_count": null,
   "metadata": {},
   "outputs": [],
   "source": [
    "model_svm.fit(X_train, y_train)"
   ]
  },
  {
   "cell_type": "code",
   "execution_count": null,
   "metadata": {},
   "outputs": [],
   "source": [
    "y_pred1 = model_svm.predict(X_test)"
   ]
  },
  {
   "cell_type": "code",
   "execution_count": null,
   "metadata": {},
   "outputs": [],
   "source": [
    "accuracy_score(y_test,y_pred1)"
   ]
  },
  {
   "cell_type": "code",
   "execution_count": null,
   "metadata": {},
   "outputs": [],
   "source": [
    "confusion_matrix(y_test,y_pred1)"
   ]
  },
  {
   "cell_type": "code",
   "execution_count": null,
   "metadata": {},
   "outputs": [],
   "source": [
    "model_svm2 = svm.SVC(kernel='rbf', gamma = 0.001)  # TRYING WITH A NON LINEAR KERNEL\n",
    "model_svm2.fit(X_train, y_train)\n",
    "y_pred2 = model_svm2.predict(X_test)\n",
    "accuracy_score(y_test,y_pred2)"
   ]
  },
  {
   "cell_type": "code",
   "execution_count": null,
   "metadata": {},
   "outputs": [],
   "source": [
    "confusion_matrix(y_test,y_pred2)"
   ]
  },
  {
   "cell_type": "code",
   "execution_count": 63,
   "metadata": {},
   "outputs": [
    {
     "name": "stdout",
     "output_type": "stream",
     "text": [
      "/Users/i0s6026/Documents/Python/metis/Mcnulty Project\r\n"
     ]
    }
   ],
   "source": [
    "!pwd"
   ]
  },
  {
   "cell_type": "code",
   "execution_count": null,
   "metadata": {},
   "outputs": [],
   "source": []
  }
 ],
 "metadata": {
  "kernelspec": {
   "display_name": "Python 3",
   "language": "python",
   "name": "python3"
  },
  "language_info": {
   "codemirror_mode": {
    "name": "ipython",
    "version": 3
   },
   "file_extension": ".py",
   "mimetype": "text/x-python",
   "name": "python",
   "nbconvert_exporter": "python",
   "pygments_lexer": "ipython3",
   "version": "3.6.4"
  }
 },
 "nbformat": 4,
 "nbformat_minor": 2
}
